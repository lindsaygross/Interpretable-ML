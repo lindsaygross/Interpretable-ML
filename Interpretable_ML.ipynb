{
  "cells": [
    {
      "cell_type": "markdown",
      "metadata": {
        "id": "N2zEbLQ-UiBC"
      },
      "source": [
        "# **AIPI 590 - XAI | Assignment #1**\n",
        "### Interpretable ML Assignment\n",
        "### Lindsay Gross\n",
        "\n",
        "\n",
        "[![Open In Collab](https://colab.research.google.com/assets/colab-badge.svg)](https://colab.research.google.com/drive/18r50P2SgkHUKty02ZOacZssCm6J902fk)\n"
      ]
    },
    {
      "cell_type": "markdown",
      "metadata": {
        "id": "z1Omgh3nUiBD"
      },
      "source": [
        "👉 Make sure to delete the helper markdown below in your own notebook!\n",
        "\n",
        "## DO:\n",
        "* Use markdown and comments effectively\n",
        "* Pull out classes and functions into scripts\n",
        "* Ensure cells are executed in order and avoid skipping cells to maintain reproducibility\n",
        "* Choose the appropriate runtime (i.e. GPU) if needed\n",
        "* If you are using a dataset that is too large to put in your GitHub repository, you must either pull it in via Hugging Face Datasets or put it in an S3 bucket and use boto3 to pull from there.\n",
        "* Use versioning on all installs (ie pandas==1.3.0) to ensure consistency across versions\n",
        "* Implement error handling where appropriate\n",
        "\n",
        "## DON'T:\n",
        "* Absolutely NO sending us Google Drive links or zip files with data (see above).\n",
        "* Load packages throughout the notebook. Please load all packages in the first code cell in your notebook.\n",
        "* Add API keys or tokens directly to your notebook!!!! EVER!!!\n",
        "* Include cells that you used for testing or debugging. Delete these before submission\n",
        "* Have errors rendered in your notebook. Fix errors prior to submission."
      ]
    },
    {
      "cell_type": "markdown",
      "metadata": {
        "id": "LxIdwu4vdC_8"
      },
      "source": [
        "## **IF YOU PLAN ON RUNNING IN COLAB, RUN THIS TO GET THE DATA SET**"
      ]
    },
    {
      "cell_type": "code",
      "execution_count": 25,
      "metadata": {
        "colab": {
          "base_uri": "https://localhost:8080/"
        },
        "id": "W4lNQq98dB2B",
        "outputId": "20c00317-7f5b-42bd-e881-c231a79a3004"
      },
      "outputs": [
        {
          "name": "stdout",
          "output_type": "stream",
          "text": [
            "Drive already mounted at /content/drive; to attempt to forcibly remount, call drive.mount(\"/content/drive\", force_remount=True).\n"
          ]
        }
      ],
      "source": [
        "from google.colab import drive\n",
        "drive.mount('/content/drive')"
      ]
    },
    {
      "cell_type": "code",
      "execution_count": 34,
      "metadata": {
        "colab": {
          "base_uri": "https://localhost:8080/"
        },
        "id": "v4Xx1OF1f64M",
        "outputId": "b0c0566a-1e09-4e69-8bf8-2f38fd45e8a6"
      },
      "outputs": [
        {
          "name": "stdout",
          "output_type": "stream",
          "text": [
            "running in google colab...\n",
            "Drive already mounted at /content/drive; to attempt to forcibly remount, call drive.mount(\"/content/drive\", force_remount=True).\n",
            "/content/drive/MyDrive/Duke ME AIPI\n",
            "/content/drive/MyDrive/Duke ME AIPI/Interpretable-ML\n",
            "From https://github.com/lindsaygross/Interpretable-ML\n",
            " * branch            main       -> FETCH_HEAD\n",
            "Already up to date.\n",
            "/content/drive/MyDrive/Duke ME AIPI\n",
            "/content/drive/MyDrive/Duke ME AIPI/Interpretable-ML\n",
            "Collecting pandas==2.1.4 (from -r requirements.txt (line 1))\n",
            "  Using cached pandas-2.1.4-cp312-cp312-manylinux_2_17_x86_64.manylinux2014_x86_64.whl.metadata (18 kB)\n",
            "Collecting numpy==1.26.4 (from -r requirements.txt (line 2))\n",
            "  Using cached numpy-1.26.4-cp312-cp312-manylinux_2_17_x86_64.manylinux2014_x86_64.whl.metadata (61 kB)\n",
            "Collecting matplotlib==3.8.4 (from -r requirements.txt (line 3))\n",
            "  Using cached matplotlib-3.8.4-cp312-cp312-manylinux_2_17_x86_64.manylinux2014_x86_64.whl.metadata (5.8 kB)\n",
            "Requirement already satisfied: seaborn==0.13.2 in /usr/local/lib/python3.12/dist-packages (from -r requirements.txt (line 4)) (0.13.2)\n",
            "Collecting scikit-learn==1.4.1.post1 (from -r requirements.txt (line 5))\n",
            "  Using cached scikit_learn-1.4.1.post1-cp312-cp312-manylinux_2_17_x86_64.manylinux2014_x86_64.whl.metadata (11 kB)\n",
            "Requirement already satisfied: cython in /usr/local/lib/python3.12/dist-packages (from -r requirements.txt (line 6)) (3.0.12)\n",
            "\u001b[31mERROR: Ignored the following versions that require a different python version: 0.8.1 Requires-Python >=3.8.1,<3.12; 0.9.0 Requires-Python >=3.8.1,<3.12; 1.21.2 Requires-Python >=3.7,<3.11; 1.21.3 Requires-Python >=3.7,<3.11; 1.21.4 Requires-Python >=3.7,<3.11; 1.21.5 Requires-Python >=3.7,<3.11; 1.21.6 Requires-Python >=3.7,<3.11\u001b[0m\u001b[31m\n",
            "\u001b[0m\u001b[31mERROR: Could not find a version that satisfies the requirement pygam==0.9.0 (from versions: 0.2.9, 0.2.10, 0.2.11, 0.2.12, 0.2.13, 0.2.14, 0.2.15, 0.2.16, 0.2.17, 0.3.0, 0.4.0, 0.4.1, 0.4.2, 0.5.1, 0.5.2, 0.5.3, 0.5.4, 0.5.5, 0.6.0, 0.6.1, 0.6.3, 0.7.0, 0.7.1, 0.7.2, 0.8.0, 0.9.1, 0.10.0, 0.10.1)\u001b[0m\u001b[31m\n",
            "\u001b[0m\u001b[31mERROR: No matching distribution found for pygam==0.9.0\u001b[0m\u001b[31m\n",
            "\u001b[0mcsv file found: WA_Fn-UseC_-Telco-Customer-Churn.csv\n"
          ]
        }
      ],
      "source": [
        "import os\n",
        "\n",
        "# check if running in google colab\n",
        "try:\n",
        "    import google.colab\n",
        "    IN_COLAB = True\n",
        "    from google.colab import drive\n",
        "except ImportError:\n",
        "    IN_COLAB = False\n",
        "\n",
        "repo_name = \"Interpretable-ML\"\n",
        "git_path = \"https://github.com/lindsaygross/Interpretable-ML.git\"\n",
        "\n",
        "if IN_COLAB:\n",
        "    print(\"running in google colab...\")\n",
        "\n",
        "    # mount google drive\n",
        "    drive.mount('/content/drive')\n",
        "\n",
        "    # navigate to drive location\n",
        "    drive_path = '/content/drive/MyDrive/Duke ME AIPI'\n",
        "    os.makedirs(drive_path, exist_ok=True)\n",
        "    %cd \"{drive_path}\"\n",
        "\n",
        "    # clone or update repo\n",
        "    if not os.path.exists(repo_name):\n",
        "        !git clone {git_path}\n",
        "    else:\n",
        "        %cd {repo_name}\n",
        "        !git pull origin main\n",
        "        %cd ..\n",
        "\n",
        "    %cd {repo_name}\n",
        "\n",
        "    # install dependencies\n",
        "    if os.path.exists(\"requirements.txt\"):\n",
        "        !pip install -r requirements.txt\n",
        "    else:\n",
        "        !pip install pandas numpy matplotlib seaborn scikit-learn\n",
        "\n",
        "    # verify csv file exists\n",
        "    csv_file = 'WA_Fn-UseC_-Telco-Customer-Churn.csv'\n",
        "    if os.path.exists(csv_file):\n",
        "        print(f\"csv file found: {csv_file}\")\n",
        "    else:\n",
        "        print(\"csv file not found\")\n",
        "\n",
        "else:\n",
        "    # local setup\n",
        "    if os.path.exists(\"requirements.txt\"):\n",
        "        !pip install -r requirements.txt\n",
        "    else:\n",
        "        print(\"requirements.txt not found\")"
      ]
    },
    {
      "cell_type": "markdown",
      "metadata": {
        "id": "ewczhPrsZcok"
      },
      "source": [
        "## **Dependencies**"
      ]
    },
    {
      "cell_type": "code",
      "execution_count": 53,
      "metadata": {
        "id": "42jnrsenUiBF"
      },
      "outputs": [],
      "source": [
        "import numpy as np\n",
        "import pandas as pd\n",
        "\n",
        "\n",
        "# visualization libraries\n",
        "import matplotlib.pyplot as plt\n",
        "import seaborn as sns\n",
        "\n",
        "# scikit-learn libraries\n",
        "from sklearn.model_selection import train_test_split\n",
        "from sklearn.preprocessing import StandardScaler\n",
        "from sklearn.linear_model import LinearRegression, Ridge, Lasso\n",
        "from sklearn.metrics import mean_squared_error, r2_score"
      ]
    },
    {
      "cell_type": "markdown",
      "metadata": {
        "id": "VNsjgDPdUiBG"
      },
      "source": [
        "## **Exploratory Data Analysis**\n",
        "Check assumptions"
      ]
    },
    {
      "cell_type": "markdown",
      "metadata": {},
      "source": [
        "## **Column Explanations**\n",
        "customerID:\n",
        "<br>\n",
        "gender:\n",
        "<br>\n",
        "SeniorCitizen:\n",
        "<br>\n",
        "Partner:\n",
        "<br>\n",
        "Dependents: \n",
        "<br>\n",
        "tenure:\n",
        "<br>\n",
        "PhoneService:\n",
        "<br>\n",
        "MultipleLines:\n",
        "<br>\n",
        "InternetService: \n",
        "<br>\n",
        "OnlineSecurity: \n",
        "<br>\n",
        "OnlineBackup: \n",
        "<br>\n",
        "DeviceProtection: \n",
        "<br>\n",
        "TechSupport:\n",
        "<br>\n",
        "StreamingTV:\n",
        "<br>\n",
        "StreamingMovies:\n",
        "<br>\n",
        "Contract:\n",
        "<br>\n",
        "PaperlessBilling:\n",
        "<br>\n",
        "PaymentMethod:\n",
        "<br>\n",
        "MonthlyCharges:\n",
        "<br>\n",
        "TotalCharges:\n",
        "<br>\n",
        "Churn:\n",
        "<br>\n"
      ]
    },
    {
      "cell_type": "code",
      "execution_count": 54,
      "metadata": {
        "colab": {
          "base_uri": "https://localhost:8080/",
          "height": 1000
        },
        "id": "xIEnZR5WUiBG",
        "outputId": "5119f71d-12fb-44d0-b819-26692438846b"
      },
      "outputs": [
        {
          "name": "stdout",
          "output_type": "stream",
          "text": [
            "loaded from local directory\n",
            "<class 'pandas.core.frame.DataFrame'>\n",
            "RangeIndex: 7043 entries, 0 to 7042\n",
            "Data columns (total 21 columns):\n",
            " #   Column            Non-Null Count  Dtype  \n",
            "---  ------            --------------  -----  \n",
            " 0   customerID        7043 non-null   object \n",
            " 1   gender            7043 non-null   object \n",
            " 2   SeniorCitizen     7043 non-null   int64  \n",
            " 3   Partner           7043 non-null   object \n",
            " 4   Dependents        7043 non-null   object \n",
            " 5   tenure            7043 non-null   int64  \n",
            " 6   PhoneService      7043 non-null   object \n",
            " 7   MultipleLines     7043 non-null   object \n",
            " 8   InternetService   7043 non-null   object \n",
            " 9   OnlineSecurity    7043 non-null   object \n",
            " 10  OnlineBackup      7043 non-null   object \n",
            " 11  DeviceProtection  7043 non-null   object \n",
            " 12  TechSupport       7043 non-null   object \n",
            " 13  StreamingTV       7043 non-null   object \n",
            " 14  StreamingMovies   7043 non-null   object \n",
            " 15  Contract          7043 non-null   object \n",
            " 16  PaperlessBilling  7043 non-null   object \n",
            " 17  PaymentMethod     7043 non-null   object \n",
            " 18  MonthlyCharges    7043 non-null   float64\n",
            " 19  TotalCharges      7043 non-null   object \n",
            " 20  Churn             7043 non-null   object \n",
            "dtypes: float64(1), int64(2), object(18)\n",
            "memory usage: 1.1+ MB\n",
            "None\n",
            "(7043, 21)\n",
            "       SeniorCitizen       tenure  MonthlyCharges\n",
            "count    7043.000000  7043.000000     7043.000000\n",
            "mean        0.162147    32.371149       64.761692\n",
            "std         0.368612    24.559481       30.090047\n",
            "min         0.000000     0.000000       18.250000\n",
            "25%         0.000000     9.000000       35.500000\n",
            "50%         0.000000    29.000000       70.350000\n",
            "75%         0.000000    55.000000       89.850000\n",
            "max         1.000000    72.000000      118.750000\n",
            "Churn\n",
            "No     5174\n",
            "Yes    1869\n",
            "Name: count, dtype: int64\n"
          ]
        },
        {
          "data": {
            "image/png": "[encoded data removed]",
            "text/plain": [
              "<Figure size 640x480 with 1 Axes>"
            ]
          },
          "metadata": {},
          "output_type": "display_data"
        }
      ],
      "source": [
        "\"\"\"\n",
        "Perform an exploratory analysis of the dataset to understand the relationships between different\n",
        "features and the target variable (churn). Use appropriate visualizations and statistical methods\n",
        "to determine whether assumptions about linear, logistic, and GAM models are met.\n",
        "\"\"\"\n",
        "\n",
        "#df = pd.read_csv('WA_Fn-UseC_-Telco-Customer-Churn.csv')\n",
        "try:\n",
        "    df = pd.read_csv('WA_Fn-UseC_-Telco-Customer-Churn.csv')\n",
        "    print(\"loaded from local directory\")\n",
        "except:\n",
        "    try:\n",
        "        df = pd.read_csv('/content/drive/MyDrive/Duke ME AIPI/Interpretable-ML/WA_Fn-UseC_-Telco-Customer-Churn.csv')\n",
        "        print(\"loaded from colab repo\")\n",
        "    except:\n",
        "        df = pd.read_csv('/content/drive/MyDrive/Explainable AI/WA_Fn-UseC_-Telco-Customer-Churn.csv')\n",
        "        print(\"loaded from colab drive\")\n",
        "\n",
        "df.head()\n",
        "\n",
        "# describe the data\n",
        "print(df.info())\n",
        "print(df.shape)\n",
        "print(df.describe())\n",
        "\n",
        "# visualize the churn distribution\n",
        "print(df['Churn'].value_counts())\n",
        "sns.countplot(x='Churn', data=df)\n",
        "plt.title('Churn Distribution')\n",
        "plt.show()\n"
      ]
    },
    {
      "cell_type": "code",
      "execution_count": 55,
      "metadata": {},
      "outputs": [
        {
          "name": "stdout",
          "output_type": "stream",
          "text": [
            "<class 'pandas.core.frame.DataFrame'>\n",
            "RangeIndex: 7043 entries, 0 to 7042\n",
            "Data columns (total 21 columns):\n",
            " #   Column            Non-Null Count  Dtype  \n",
            "---  ------            --------------  -----  \n",
            " 0   customerID        7043 non-null   object \n",
            " 1   gender            7043 non-null   object \n",
            " 2   SeniorCitizen     7043 non-null   int64  \n",
            " 3   Partner           7043 non-null   object \n",
            " 4   Dependents        7043 non-null   object \n",
            " 5   tenure            7043 non-null   int64  \n",
            " 6   PhoneService      7043 non-null   object \n",
            " 7   MultipleLines     7043 non-null   object \n",
            " 8   InternetService   7043 non-null   object \n",
            " 9   OnlineSecurity    7043 non-null   object \n",
            " 10  OnlineBackup      7043 non-null   object \n",
            " 11  DeviceProtection  7043 non-null   object \n",
            " 12  TechSupport       7043 non-null   object \n",
            " 13  StreamingTV       7043 non-null   object \n",
            " 14  StreamingMovies   7043 non-null   object \n",
            " 15  Contract          7043 non-null   object \n",
            " 16  PaperlessBilling  7043 non-null   object \n",
            " 17  PaymentMethod     7043 non-null   object \n",
            " 18  MonthlyCharges    7043 non-null   float64\n",
            " 19  TotalCharges      7043 non-null   object \n",
            " 20  Churn             7043 non-null   object \n",
            "dtypes: float64(1), int64(2), object(18)\n",
            "memory usage: 1.1+ MB\n"
          ]
        }
      ],
      "source": [
        "df.info()"
      ]
    },
    {
      "cell_type": "markdown",
      "metadata": {},
      "source": [
        "**Summary of above EDA**\n",
        "---\n",
        "<br>\n",
        "- The above eda display a simple analysis of the dataframe calling the info function."
      ]
    },
    {
      "cell_type": "markdown",
      "metadata": {
        "id": "s0tlvDIzUiBG"
      },
      "source": [
        "# Assumptions Explained"
      ]
    },
    {
      "cell_type": "code",
      "execution_count": null,
      "metadata": {
        "id": "FikELX-rUiBH"
      },
      "outputs": [],
      "source": [
        "# Check for assumptions of linearity"
      ]
    },
    {
      "cell_type": "code",
      "execution_count": null,
      "metadata": {
        "id": "hd9FR28LUiBH"
      },
      "outputs": [],
      "source": [
        "# Check for assumptions of Independence of Observations"
      ]
    },
    {
      "cell_type": "code",
      "execution_count": null,
      "metadata": {
        "id": "Prtnt6y9UiBH"
      },
      "outputs": [],
      "source": [
        "# Check for assumptions of Homoscedasticity"
      ]
    },
    {
      "cell_type": "code",
      "execution_count": null,
      "metadata": {
        "id": "_CjMJ6DNUiBH"
      },
      "outputs": [],
      "source": [
        "# Check for assumptions of Normality of Residuals"
      ]
    },
    {
      "cell_type": "code",
      "execution_count": null,
      "metadata": {
        "id": "k6fWjBNjUiBI"
      },
      "outputs": [],
      "source": [
        "# Check for assumptions of No Multicollinearity"
      ]
    },
    {
      "cell_type": "code",
      "execution_count": null,
      "metadata": {
        "id": "UMqAUyUJUiBI"
      },
      "outputs": [],
      "source": [
        "# Check for assumptions of No Influential Outliers"
      ]
    },
    {
      "cell_type": "code",
      "execution_count": null,
      "metadata": {
        "id": "0l6uRtLqUiBI"
      },
      "outputs": [],
      "source": [
        "# Coefficent Comparison Plot"
      ]
    },
    {
      "cell_type": "code",
      "execution_count": null,
      "metadata": {
        "id": "TLyjHHCQUiBI"
      },
      "outputs": [],
      "source": [
        "# Residual Plot"
      ]
    },
    {
      "cell_type": "code",
      "execution_count": null,
      "metadata": {
        "id": "mQIs4hR_UiBI"
      },
      "outputs": [],
      "source": [
        "# Actual vs Predicted Plot"
      ]
    },
    {
      "cell_type": "code",
      "execution_count": null,
      "metadata": {
        "id": "ih269VOXUiBI"
      },
      "outputs": [],
      "source": [
        "# Feature Importance Plot"
      ]
    },
    {
      "cell_type": "code",
      "execution_count": null,
      "metadata": {
        "id": "EuYFslvxUiBI"
      },
      "outputs": [],
      "source": [
        "# Lasso Regualrization Plot"
      ]
    },
    {
      "cell_type": "code",
      "execution_count": null,
      "metadata": {
        "id": "JKoK7xaUUiBI"
      },
      "outputs": [],
      "source": [
        "# Linear Regression Model"
      ]
    },
    {
      "cell_type": "code",
      "execution_count": null,
      "metadata": {
        "id": "adMvE0YPUiBI"
      },
      "outputs": [],
      "source": [
        "# Logistic Regression Model"
      ]
    },
    {
      "cell_type": "code",
      "execution_count": null,
      "metadata": {
        "id": "cmluoXuVUiBI"
      },
      "outputs": [],
      "source": [
        "# GAM Model"
      ]
    },
    {
      "cell_type": "markdown",
      "metadata": {
        "id": "m-A7_QVcUiBJ"
      },
      "source": [
        "# Discussion of Strengths and Weaknesses"
      ]
    },
    {
      "cell_type": "markdown",
      "metadata": {
        "id": "mUfo89enUiBJ"
      },
      "source": [
        "# Recommendation of telecommunications model\n",
        "Recommendations for which model(s) the telecommunications company should use to address their customer churn problem are provided and explained in markdown"
      ]
    }
  ],
  "metadata": {
    "colab": {
      "provenance": []
    },
    "kernelspec": {
      "display_name": ".venv (3.10)",
      "language": "python",
      "name": "movie-pipeline-venv"
    },
    "language_info": {
      "codemirror_mode": {
        "name": "ipython",
        "version": 3
      },
      "file_extension": ".py",
      "mimetype": "text/x-python",
      "name": "python",
      "nbconvert_exporter": "python",
      "pygments_lexer": "ipython3",
      "version": "3.10.0"
    }
  },
  "nbformat": 4,
  "nbformat_minor": 0
}
