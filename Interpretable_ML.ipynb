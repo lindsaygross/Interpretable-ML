{
  "cells": [
    {
      "cell_type": "markdown",
      "metadata": {
        "id": "N2zEbLQ-UiBC"
      },
      "source": [
        "# **AIPI 590 - XAI | Assignment #1**\n",
        "### Interpretable ML Assignment\n",
        "### Lindsay Gross\n",
        "\n",
        "\n",
        "[![Open In Collab](https://colab.research.google.com/assets/colab-badge.svg)](https://colab.research.google.com/drive/18r50P2SgkHUKty02ZOacZssCm6J902fk)\n"
      ]
    },
    {
      "cell_type": "markdown",
      "metadata": {
        "id": "z1Omgh3nUiBD"
      },
      "source": [
        "👉 Make sure to delete the helper markdown below in your own notebook!\n",
        "\n",
        "## DO:\n",
        "* Use markdown and comments effectively\n",
        "* Pull out classes and functions into scripts\n",
        "* Ensure cells are executed in order and avoid skipping cells to maintain reproducibility\n",
        "* Choose the appropriate runtime (i.e. GPU) if needed\n",
        "* If you are using a dataset that is too large to put in your GitHub repository, you must either pull it in via Hugging Face Datasets or put it in an S3 bucket and use boto3 to pull from there.\n",
        "* Use versioning on all installs (ie pandas==1.3.0) to ensure consistency across versions\n",
        "* Implement error handling where appropriate\n",
        "\n",
        "## DON'T:\n",
        "* Absolutely NO sending us Google Drive links or zip files with data (see above).\n",
        "* Load packages throughout the notebook. Please load all packages in the first code cell in your notebook.\n",
        "* Add API keys or tokens directly to your notebook!!!! EVER!!!\n",
        "* Include cells that you used for testing or debugging. Delete these before submission\n",
        "* Have errors rendered in your notebook. Fix errors prior to submission."
      ]
    },
    {
      "cell_type": "markdown",
      "metadata": {
        "id": "LxIdwu4vdC_8"
      },
      "source": [
        "## **IF YOU PLAN ON RUNNING IN COLAB, RUN THIS TO GET THE DATA SET**"
      ]
    },
    {
      "cell_type": "code",
      "execution_count": 56,
      "metadata": {
        "colab": {
          "base_uri": "https://localhost:8080/"
        },
        "id": "W4lNQq98dB2B",
        "outputId": "20c00317-7f5b-42bd-e881-c231a79a3004"
      },
      "outputs": [
        {
          "ename": "ModuleNotFoundError",
          "evalue": "No module named 'google'",
          "output_type": "error",
          "traceback": [
            "\u001b[0;31m---------------------------------------------------------------------------\u001b[0m",
            "\u001b[0;31mModuleNotFoundError\u001b[0m                       Traceback (most recent call last)",
            "Cell \u001b[0;32mIn[56], line 1\u001b[0m\n\u001b[0;32m----> 1\u001b[0m \u001b[38;5;28;01mfrom\u001b[39;00m\u001b[38;5;250m \u001b[39m\u001b[38;5;21;01mgoogle\u001b[39;00m\u001b[38;5;21;01m.\u001b[39;00m\u001b[38;5;21;01mcolab\u001b[39;00m\u001b[38;5;250m \u001b[39m\u001b[38;5;28;01mimport\u001b[39;00m drive\n\u001b[1;32m      2\u001b[0m drive\u001b[38;5;241m.\u001b[39mmount(\u001b[38;5;124m'\u001b[39m\u001b[38;5;124m/content/drive\u001b[39m\u001b[38;5;124m'\u001b[39m)\n",
            "\u001b[0;31mModuleNotFoundError\u001b[0m: No module named 'google'"
          ]
        }
      ],
      "source": [
        "from google.colab import drive\n",
        "drive.mount('/content/drive')"
      ]
    },
    {
      "cell_type": "code",
      "execution_count": 57,
      "metadata": {
        "colab": {
          "base_uri": "https://localhost:8080/"
        },
        "id": "v4Xx1OF1f64M",
        "outputId": "b0c0566a-1e09-4e69-8bf8-2f38fd45e8a6"
      },
      "outputs": [
        {
          "name": "stdout",
          "output_type": "stream",
          "text": [
            "Requirement already satisfied: pandas==2.1.4 in /Users/lindsaygross/AIPI503/data-pipeline/venv/lib/python3.10/site-packages (from -r requirements.txt (line 1)) (2.1.4)\n",
            "Requirement already satisfied: numpy==1.26.4 in /Users/lindsaygross/AIPI503/data-pipeline/venv/lib/python3.10/site-packages (from -r requirements.txt (line 2)) (1.26.4)\n",
            "Requirement already satisfied: matplotlib==3.8.4 in /Users/lindsaygross/AIPI503/data-pipeline/venv/lib/python3.10/site-packages (from -r requirements.txt (line 3)) (3.8.4)\n",
            "Requirement already satisfied: seaborn==0.13.2 in /Users/lindsaygross/AIPI503/data-pipeline/venv/lib/python3.10/site-packages (from -r requirements.txt (line 4)) (0.13.2)\n",
            "Requirement already satisfied: scikit-learn==1.4.1.post1 in /Users/lindsaygross/AIPI503/data-pipeline/venv/lib/python3.10/site-packages (from -r requirements.txt (line 5)) (1.4.1.post1)\n",
            "Requirement already satisfied: cython in /Users/lindsaygross/AIPI503/data-pipeline/venv/lib/python3.10/site-packages (from -r requirements.txt (line 6)) (3.1.3)\n",
            "Requirement already satisfied: pygam==0.9.0 in /Users/lindsaygross/AIPI503/data-pipeline/venv/lib/python3.10/site-packages (from -r requirements.txt (line 7)) (0.9.0)\n",
            "Requirement already satisfied: jupyter in /Users/lindsaygross/AIPI503/data-pipeline/venv/lib/python3.10/site-packages (from -r requirements.txt (line 8)) (1.1.1)\n",
            "Requirement already satisfied: python-dateutil>=2.8.2 in /Users/lindsaygross/AIPI503/data-pipeline/venv/lib/python3.10/site-packages (from pandas==2.1.4->-r requirements.txt (line 1)) (2.9.0.post0)\n",
            "Requirement already satisfied: pytz>=2020.1 in /Users/lindsaygross/AIPI503/data-pipeline/venv/lib/python3.10/site-packages (from pandas==2.1.4->-r requirements.txt (line 1)) (2025.2)\n",
            "Requirement already satisfied: tzdata>=2022.1 in /Users/lindsaygross/AIPI503/data-pipeline/venv/lib/python3.10/site-packages (from pandas==2.1.4->-r requirements.txt (line 1)) (2025.2)\n",
            "Requirement already satisfied: contourpy>=1.0.1 in /Users/lindsaygross/AIPI503/data-pipeline/venv/lib/python3.10/site-packages (from matplotlib==3.8.4->-r requirements.txt (line 3)) (1.3.2)\n",
            "Requirement already satisfied: cycler>=0.10 in /Users/lindsaygross/AIPI503/data-pipeline/venv/lib/python3.10/site-packages (from matplotlib==3.8.4->-r requirements.txt (line 3)) (0.12.1)\n",
            "Requirement already satisfied: fonttools>=4.22.0 in /Users/lindsaygross/AIPI503/data-pipeline/venv/lib/python3.10/site-packages (from matplotlib==3.8.4->-r requirements.txt (line 3)) (4.59.1)\n",
            "Requirement already satisfied: kiwisolver>=1.3.1 in /Users/lindsaygross/AIPI503/data-pipeline/venv/lib/python3.10/site-packages (from matplotlib==3.8.4->-r requirements.txt (line 3)) (1.4.9)\n",
            "Requirement already satisfied: packaging>=20.0 in /Users/lindsaygross/AIPI503/data-pipeline/venv/lib/python3.10/site-packages (from matplotlib==3.8.4->-r requirements.txt (line 3)) (25.0)\n",
            "Requirement already satisfied: pillow>=8 in /Users/lindsaygross/AIPI503/data-pipeline/venv/lib/python3.10/site-packages (from matplotlib==3.8.4->-r requirements.txt (line 3)) (11.3.0)\n",
            "Requirement already satisfied: pyparsing>=2.3.1 in /Users/lindsaygross/AIPI503/data-pipeline/venv/lib/python3.10/site-packages (from matplotlib==3.8.4->-r requirements.txt (line 3)) (3.2.3)\n",
            "Requirement already satisfied: scipy>=1.6.0 in /Users/lindsaygross/AIPI503/data-pipeline/venv/lib/python3.10/site-packages (from scikit-learn==1.4.1.post1->-r requirements.txt (line 5)) (1.15.3)\n",
            "Requirement already satisfied: joblib>=1.2.0 in /Users/lindsaygross/AIPI503/data-pipeline/venv/lib/python3.10/site-packages (from scikit-learn==1.4.1.post1->-r requirements.txt (line 5)) (1.5.1)\n",
            "Requirement already satisfied: threadpoolctl>=2.0.0 in /Users/lindsaygross/AIPI503/data-pipeline/venv/lib/python3.10/site-packages (from scikit-learn==1.4.1.post1->-r requirements.txt (line 5)) (3.6.0)\n",
            "Requirement already satisfied: progressbar2<5.0.0,>=4.2.0 in /Users/lindsaygross/AIPI503/data-pipeline/venv/lib/python3.10/site-packages (from pygam==0.9.0->-r requirements.txt (line 7)) (4.5.0)\n",
            "Requirement already satisfied: python-utils>=3.8.1 in /Users/lindsaygross/AIPI503/data-pipeline/venv/lib/python3.10/site-packages (from progressbar2<5.0.0,>=4.2.0->pygam==0.9.0->-r requirements.txt (line 7)) (3.9.1)\n",
            "Requirement already satisfied: notebook in /Users/lindsaygross/AIPI503/data-pipeline/venv/lib/python3.10/site-packages (from jupyter->-r requirements.txt (line 8)) (7.4.5)\n",
            "Requirement already satisfied: jupyter-console in /Users/lindsaygross/AIPI503/data-pipeline/venv/lib/python3.10/site-packages (from jupyter->-r requirements.txt (line 8)) (6.6.3)\n",
            "Requirement already satisfied: nbconvert in /Users/lindsaygross/AIPI503/data-pipeline/venv/lib/python3.10/site-packages (from jupyter->-r requirements.txt (line 8)) (7.16.6)\n",
            "Requirement already satisfied: ipykernel in /Users/lindsaygross/AIPI503/data-pipeline/venv/lib/python3.10/site-packages (from jupyter->-r requirements.txt (line 8)) (6.30.1)\n",
            "Requirement already satisfied: ipywidgets in /Users/lindsaygross/AIPI503/data-pipeline/venv/lib/python3.10/site-packages (from jupyter->-r requirements.txt (line 8)) (8.1.7)\n",
            "Requirement already satisfied: jupyterlab in /Users/lindsaygross/AIPI503/data-pipeline/venv/lib/python3.10/site-packages (from jupyter->-r requirements.txt (line 8)) (4.4.7)\n",
            "Requirement already satisfied: six>=1.5 in /Users/lindsaygross/AIPI503/data-pipeline/venv/lib/python3.10/site-packages (from python-dateutil>=2.8.2->pandas==2.1.4->-r requirements.txt (line 1)) (1.17.0)\n",
            "Requirement already satisfied: typing_extensions>3.10.0.2 in /Users/lindsaygross/AIPI503/data-pipeline/venv/lib/python3.10/site-packages (from python-utils>=3.8.1->progressbar2<5.0.0,>=4.2.0->pygam==0.9.0->-r requirements.txt (line 7)) (4.14.1)\n",
            "Requirement already satisfied: appnope>=0.1.2 in /Users/lindsaygross/AIPI503/data-pipeline/venv/lib/python3.10/site-packages (from ipykernel->jupyter->-r requirements.txt (line 8)) (0.1.4)\n",
            "Requirement already satisfied: comm>=0.1.1 in /Users/lindsaygross/AIPI503/data-pipeline/venv/lib/python3.10/site-packages (from ipykernel->jupyter->-r requirements.txt (line 8)) (0.2.3)\n",
            "Requirement already satisfied: debugpy>=1.6.5 in /Users/lindsaygross/AIPI503/data-pipeline/venv/lib/python3.10/site-packages (from ipykernel->jupyter->-r requirements.txt (line 8)) (1.8.16)\n",
            "Requirement already satisfied: ipython>=7.23.1 in /Users/lindsaygross/AIPI503/data-pipeline/venv/lib/python3.10/site-packages (from ipykernel->jupyter->-r requirements.txt (line 8)) (8.37.0)\n",
            "Requirement already satisfied: jupyter-client>=8.0.0 in /Users/lindsaygross/AIPI503/data-pipeline/venv/lib/python3.10/site-packages (from ipykernel->jupyter->-r requirements.txt (line 8)) (8.6.3)\n",
            "Requirement already satisfied: jupyter-core!=5.0.*,>=4.12 in /Users/lindsaygross/AIPI503/data-pipeline/venv/lib/python3.10/site-packages (from ipykernel->jupyter->-r requirements.txt (line 8)) (5.8.1)\n",
            "Requirement already satisfied: matplotlib-inline>=0.1 in /Users/lindsaygross/AIPI503/data-pipeline/venv/lib/python3.10/site-packages (from ipykernel->jupyter->-r requirements.txt (line 8)) (0.1.7)\n",
            "Requirement already satisfied: nest-asyncio>=1.4 in /Users/lindsaygross/AIPI503/data-pipeline/venv/lib/python3.10/site-packages (from ipykernel->jupyter->-r requirements.txt (line 8)) (1.6.0)\n",
            "Requirement already satisfied: psutil>=5.7 in /Users/lindsaygross/AIPI503/data-pipeline/venv/lib/python3.10/site-packages (from ipykernel->jupyter->-r requirements.txt (line 8)) (7.0.0)\n",
            "Requirement already satisfied: pyzmq>=25 in /Users/lindsaygross/AIPI503/data-pipeline/venv/lib/python3.10/site-packages (from ipykernel->jupyter->-r requirements.txt (line 8)) (27.0.1)\n",
            "Requirement already satisfied: tornado>=6.2 in /Users/lindsaygross/AIPI503/data-pipeline/venv/lib/python3.10/site-packages (from ipykernel->jupyter->-r requirements.txt (line 8)) (6.5.2)\n",
            "Requirement already satisfied: traitlets>=5.4.0 in /Users/lindsaygross/AIPI503/data-pipeline/venv/lib/python3.10/site-packages (from ipykernel->jupyter->-r requirements.txt (line 8)) (5.14.3)\n",
            "Requirement already satisfied: decorator in /Users/lindsaygross/AIPI503/data-pipeline/venv/lib/python3.10/site-packages (from ipython>=7.23.1->ipykernel->jupyter->-r requirements.txt (line 8)) (5.2.1)\n",
            "Requirement already satisfied: exceptiongroup in /Users/lindsaygross/AIPI503/data-pipeline/venv/lib/python3.10/site-packages (from ipython>=7.23.1->ipykernel->jupyter->-r requirements.txt (line 8)) (1.3.0)\n",
            "Requirement already satisfied: jedi>=0.16 in /Users/lindsaygross/AIPI503/data-pipeline/venv/lib/python3.10/site-packages (from ipython>=7.23.1->ipykernel->jupyter->-r requirements.txt (line 8)) (0.19.2)\n",
            "Requirement already satisfied: pexpect>4.3 in /Users/lindsaygross/AIPI503/data-pipeline/venv/lib/python3.10/site-packages (from ipython>=7.23.1->ipykernel->jupyter->-r requirements.txt (line 8)) (4.9.0)\n",
            "Requirement already satisfied: prompt_toolkit<3.1.0,>=3.0.41 in /Users/lindsaygross/AIPI503/data-pipeline/venv/lib/python3.10/site-packages (from ipython>=7.23.1->ipykernel->jupyter->-r requirements.txt (line 8)) (3.0.51)\n",
            "Requirement already satisfied: pygments>=2.4.0 in /Users/lindsaygross/AIPI503/data-pipeline/venv/lib/python3.10/site-packages (from ipython>=7.23.1->ipykernel->jupyter->-r requirements.txt (line 8)) (2.19.2)\n",
            "Requirement already satisfied: stack_data in /Users/lindsaygross/AIPI503/data-pipeline/venv/lib/python3.10/site-packages (from ipython>=7.23.1->ipykernel->jupyter->-r requirements.txt (line 8)) (0.6.3)\n",
            "Requirement already satisfied: wcwidth in /Users/lindsaygross/AIPI503/data-pipeline/venv/lib/python3.10/site-packages (from prompt_toolkit<3.1.0,>=3.0.41->ipython>=7.23.1->ipykernel->jupyter->-r requirements.txt (line 8)) (0.2.13)\n",
            "Requirement already satisfied: parso<0.9.0,>=0.8.4 in /Users/lindsaygross/AIPI503/data-pipeline/venv/lib/python3.10/site-packages (from jedi>=0.16->ipython>=7.23.1->ipykernel->jupyter->-r requirements.txt (line 8)) (0.8.4)\n",
            "Requirement already satisfied: platformdirs>=2.5 in /Users/lindsaygross/AIPI503/data-pipeline/venv/lib/python3.10/site-packages (from jupyter-core!=5.0.*,>=4.12->ipykernel->jupyter->-r requirements.txt (line 8)) (4.3.8)\n",
            "Requirement already satisfied: ptyprocess>=0.5 in /Users/lindsaygross/AIPI503/data-pipeline/venv/lib/python3.10/site-packages (from pexpect>4.3->ipython>=7.23.1->ipykernel->jupyter->-r requirements.txt (line 8)) (0.7.0)\n",
            "Requirement already satisfied: widgetsnbextension~=4.0.14 in /Users/lindsaygross/AIPI503/data-pipeline/venv/lib/python3.10/site-packages (from ipywidgets->jupyter->-r requirements.txt (line 8)) (4.0.14)\n",
            "Requirement already satisfied: jupyterlab_widgets~=3.0.15 in /Users/lindsaygross/AIPI503/data-pipeline/venv/lib/python3.10/site-packages (from ipywidgets->jupyter->-r requirements.txt (line 8)) (3.0.15)\n",
            "Requirement already satisfied: async-lru>=1.0.0 in /Users/lindsaygross/AIPI503/data-pipeline/venv/lib/python3.10/site-packages (from jupyterlab->jupyter->-r requirements.txt (line 8)) (2.0.5)\n",
            "Requirement already satisfied: httpx<1,>=0.25.0 in /Users/lindsaygross/AIPI503/data-pipeline/venv/lib/python3.10/site-packages (from jupyterlab->jupyter->-r requirements.txt (line 8)) (0.28.1)\n",
            "Requirement already satisfied: jinja2>=3.0.3 in /Users/lindsaygross/AIPI503/data-pipeline/venv/lib/python3.10/site-packages (from jupyterlab->jupyter->-r requirements.txt (line 8)) (3.1.6)\n",
            "Requirement already satisfied: jupyter-lsp>=2.0.0 in /Users/lindsaygross/AIPI503/data-pipeline/venv/lib/python3.10/site-packages (from jupyterlab->jupyter->-r requirements.txt (line 8)) (2.3.0)\n",
            "Requirement already satisfied: jupyter-server<3,>=2.4.0 in /Users/lindsaygross/AIPI503/data-pipeline/venv/lib/python3.10/site-packages (from jupyterlab->jupyter->-r requirements.txt (line 8)) (2.17.0)\n",
            "Requirement already satisfied: jupyterlab-server<3,>=2.27.1 in /Users/lindsaygross/AIPI503/data-pipeline/venv/lib/python3.10/site-packages (from jupyterlab->jupyter->-r requirements.txt (line 8)) (2.27.3)\n",
            "Requirement already satisfied: notebook-shim>=0.2 in /Users/lindsaygross/AIPI503/data-pipeline/venv/lib/python3.10/site-packages (from jupyterlab->jupyter->-r requirements.txt (line 8)) (0.2.4)\n",
            "Requirement already satisfied: setuptools>=41.1.0 in /Users/lindsaygross/AIPI503/data-pipeline/venv/lib/python3.10/site-packages (from jupyterlab->jupyter->-r requirements.txt (line 8)) (57.4.0)\n",
            "Requirement already satisfied: tomli>=1.2.2 in /Users/lindsaygross/AIPI503/data-pipeline/venv/lib/python3.10/site-packages (from jupyterlab->jupyter->-r requirements.txt (line 8)) (2.2.1)\n",
            "Requirement already satisfied: anyio in /Users/lindsaygross/AIPI503/data-pipeline/venv/lib/python3.10/site-packages (from httpx<1,>=0.25.0->jupyterlab->jupyter->-r requirements.txt (line 8)) (4.10.0)\n",
            "Requirement already satisfied: certifi in /Users/lindsaygross/AIPI503/data-pipeline/venv/lib/python3.10/site-packages (from httpx<1,>=0.25.0->jupyterlab->jupyter->-r requirements.txt (line 8)) (2025.8.3)\n",
            "Requirement already satisfied: httpcore==1.* in /Users/lindsaygross/AIPI503/data-pipeline/venv/lib/python3.10/site-packages (from httpx<1,>=0.25.0->jupyterlab->jupyter->-r requirements.txt (line 8)) (1.0.9)\n",
            "Requirement already satisfied: idna in /Users/lindsaygross/AIPI503/data-pipeline/venv/lib/python3.10/site-packages (from httpx<1,>=0.25.0->jupyterlab->jupyter->-r requirements.txt (line 8)) (3.10)\n",
            "Requirement already satisfied: h11>=0.16 in /Users/lindsaygross/AIPI503/data-pipeline/venv/lib/python3.10/site-packages (from httpcore==1.*->httpx<1,>=0.25.0->jupyterlab->jupyter->-r requirements.txt (line 8)) (0.16.0)\n",
            "Requirement already satisfied: argon2-cffi>=21.1 in /Users/lindsaygross/AIPI503/data-pipeline/venv/lib/python3.10/site-packages (from jupyter-server<3,>=2.4.0->jupyterlab->jupyter->-r requirements.txt (line 8)) (25.1.0)\n",
            "Requirement already satisfied: jupyter-events>=0.11.0 in /Users/lindsaygross/AIPI503/data-pipeline/venv/lib/python3.10/site-packages (from jupyter-server<3,>=2.4.0->jupyterlab->jupyter->-r requirements.txt (line 8)) (0.12.0)\n",
            "Requirement already satisfied: jupyter-server-terminals>=0.4.4 in /Users/lindsaygross/AIPI503/data-pipeline/venv/lib/python3.10/site-packages (from jupyter-server<3,>=2.4.0->jupyterlab->jupyter->-r requirements.txt (line 8)) (0.5.3)\n",
            "Requirement already satisfied: nbformat>=5.3.0 in /Users/lindsaygross/AIPI503/data-pipeline/venv/lib/python3.10/site-packages (from jupyter-server<3,>=2.4.0->jupyterlab->jupyter->-r requirements.txt (line 8)) (5.10.4)\n",
            "Requirement already satisfied: overrides>=5.0 in /Users/lindsaygross/AIPI503/data-pipeline/venv/lib/python3.10/site-packages (from jupyter-server<3,>=2.4.0->jupyterlab->jupyter->-r requirements.txt (line 8)) (7.7.0)\n",
            "Requirement already satisfied: prometheus-client>=0.9 in /Users/lindsaygross/AIPI503/data-pipeline/venv/lib/python3.10/site-packages (from jupyter-server<3,>=2.4.0->jupyterlab->jupyter->-r requirements.txt (line 8)) (0.22.1)\n",
            "Requirement already satisfied: send2trash>=1.8.2 in /Users/lindsaygross/AIPI503/data-pipeline/venv/lib/python3.10/site-packages (from jupyter-server<3,>=2.4.0->jupyterlab->jupyter->-r requirements.txt (line 8)) (1.8.3)\n",
            "Requirement already satisfied: terminado>=0.8.3 in /Users/lindsaygross/AIPI503/data-pipeline/venv/lib/python3.10/site-packages (from jupyter-server<3,>=2.4.0->jupyterlab->jupyter->-r requirements.txt (line 8)) (0.18.1)\n",
            "Requirement already satisfied: websocket-client>=1.7 in /Users/lindsaygross/AIPI503/data-pipeline/venv/lib/python3.10/site-packages (from jupyter-server<3,>=2.4.0->jupyterlab->jupyter->-r requirements.txt (line 8)) (1.8.0)\n",
            "Requirement already satisfied: babel>=2.10 in /Users/lindsaygross/AIPI503/data-pipeline/venv/lib/python3.10/site-packages (from jupyterlab-server<3,>=2.27.1->jupyterlab->jupyter->-r requirements.txt (line 8)) (2.17.0)\n",
            "Requirement already satisfied: json5>=0.9.0 in /Users/lindsaygross/AIPI503/data-pipeline/venv/lib/python3.10/site-packages (from jupyterlab-server<3,>=2.27.1->jupyterlab->jupyter->-r requirements.txt (line 8)) (0.12.1)\n",
            "Requirement already satisfied: jsonschema>=4.18.0 in /Users/lindsaygross/AIPI503/data-pipeline/venv/lib/python3.10/site-packages (from jupyterlab-server<3,>=2.27.1->jupyterlab->jupyter->-r requirements.txt (line 8)) (4.25.1)\n",
            "Requirement already satisfied: requests>=2.31 in /Users/lindsaygross/AIPI503/data-pipeline/venv/lib/python3.10/site-packages (from jupyterlab-server<3,>=2.27.1->jupyterlab->jupyter->-r requirements.txt (line 8)) (2.32.5)\n",
            "Requirement already satisfied: sniffio>=1.1 in /Users/lindsaygross/AIPI503/data-pipeline/venv/lib/python3.10/site-packages (from anyio->httpx<1,>=0.25.0->jupyterlab->jupyter->-r requirements.txt (line 8)) (1.3.1)\n",
            "Requirement already satisfied: argon2-cffi-bindings in /Users/lindsaygross/AIPI503/data-pipeline/venv/lib/python3.10/site-packages (from argon2-cffi>=21.1->jupyter-server<3,>=2.4.0->jupyterlab->jupyter->-r requirements.txt (line 8)) (25.1.0)\n",
            "Requirement already satisfied: MarkupSafe>=2.0 in /Users/lindsaygross/AIPI503/data-pipeline/venv/lib/python3.10/site-packages (from jinja2>=3.0.3->jupyterlab->jupyter->-r requirements.txt (line 8)) (3.0.2)\n",
            "Requirement already satisfied: attrs>=22.2.0 in /Users/lindsaygross/AIPI503/data-pipeline/venv/lib/python3.10/site-packages (from jsonschema>=4.18.0->jupyterlab-server<3,>=2.27.1->jupyterlab->jupyter->-r requirements.txt (line 8)) (25.3.0)\n",
            "Requirement already satisfied: jsonschema-specifications>=2023.03.6 in /Users/lindsaygross/AIPI503/data-pipeline/venv/lib/python3.10/site-packages (from jsonschema>=4.18.0->jupyterlab-server<3,>=2.27.1->jupyterlab->jupyter->-r requirements.txt (line 8)) (2025.9.1)\n",
            "Requirement already satisfied: referencing>=0.28.4 in /Users/lindsaygross/AIPI503/data-pipeline/venv/lib/python3.10/site-packages (from jsonschema>=4.18.0->jupyterlab-server<3,>=2.27.1->jupyterlab->jupyter->-r requirements.txt (line 8)) (0.36.2)\n",
            "Requirement already satisfied: rpds-py>=0.7.1 in /Users/lindsaygross/AIPI503/data-pipeline/venv/lib/python3.10/site-packages (from jsonschema>=4.18.0->jupyterlab-server<3,>=2.27.1->jupyterlab->jupyter->-r requirements.txt (line 8)) (0.27.1)\n",
            "Requirement already satisfied: python-json-logger>=2.0.4 in /Users/lindsaygross/AIPI503/data-pipeline/venv/lib/python3.10/site-packages (from jupyter-events>=0.11.0->jupyter-server<3,>=2.4.0->jupyterlab->jupyter->-r requirements.txt (line 8)) (3.3.0)\n",
            "Requirement already satisfied: pyyaml>=5.3 in /Users/lindsaygross/AIPI503/data-pipeline/venv/lib/python3.10/site-packages (from jupyter-events>=0.11.0->jupyter-server<3,>=2.4.0->jupyterlab->jupyter->-r requirements.txt (line 8)) (6.0.2)\n",
            "Requirement already satisfied: rfc3339-validator in /Users/lindsaygross/AIPI503/data-pipeline/venv/lib/python3.10/site-packages (from jupyter-events>=0.11.0->jupyter-server<3,>=2.4.0->jupyterlab->jupyter->-r requirements.txt (line 8)) (0.1.4)\n",
            "Requirement already satisfied: rfc3986-validator>=0.1.1 in /Users/lindsaygross/AIPI503/data-pipeline/venv/lib/python3.10/site-packages (from jupyter-events>=0.11.0->jupyter-server<3,>=2.4.0->jupyterlab->jupyter->-r requirements.txt (line 8)) (0.1.1)\n",
            "Requirement already satisfied: fqdn in /Users/lindsaygross/AIPI503/data-pipeline/venv/lib/python3.10/site-packages (from jsonschema[format-nongpl]>=4.18.0->jupyter-events>=0.11.0->jupyter-server<3,>=2.4.0->jupyterlab->jupyter->-r requirements.txt (line 8)) (1.5.1)\n",
            "Requirement already satisfied: isoduration in /Users/lindsaygross/AIPI503/data-pipeline/venv/lib/python3.10/site-packages (from jsonschema[format-nongpl]>=4.18.0->jupyter-events>=0.11.0->jupyter-server<3,>=2.4.0->jupyterlab->jupyter->-r requirements.txt (line 8)) (20.11.0)\n",
            "Requirement already satisfied: jsonpointer>1.13 in /Users/lindsaygross/AIPI503/data-pipeline/venv/lib/python3.10/site-packages (from jsonschema[format-nongpl]>=4.18.0->jupyter-events>=0.11.0->jupyter-server<3,>=2.4.0->jupyterlab->jupyter->-r requirements.txt (line 8)) (3.0.0)\n",
            "Requirement already satisfied: rfc3987-syntax>=1.1.0 in /Users/lindsaygross/AIPI503/data-pipeline/venv/lib/python3.10/site-packages (from jsonschema[format-nongpl]>=4.18.0->jupyter-events>=0.11.0->jupyter-server<3,>=2.4.0->jupyterlab->jupyter->-r requirements.txt (line 8)) (1.1.0)\n",
            "Requirement already satisfied: uri-template in /Users/lindsaygross/AIPI503/data-pipeline/venv/lib/python3.10/site-packages (from jsonschema[format-nongpl]>=4.18.0->jupyter-events>=0.11.0->jupyter-server<3,>=2.4.0->jupyterlab->jupyter->-r requirements.txt (line 8)) (1.3.0)\n",
            "Requirement already satisfied: webcolors>=24.6.0 in /Users/lindsaygross/AIPI503/data-pipeline/venv/lib/python3.10/site-packages (from jsonschema[format-nongpl]>=4.18.0->jupyter-events>=0.11.0->jupyter-server<3,>=2.4.0->jupyterlab->jupyter->-r requirements.txt (line 8)) (24.11.1)\n",
            "Requirement already satisfied: beautifulsoup4 in /Users/lindsaygross/AIPI503/data-pipeline/venv/lib/python3.10/site-packages (from nbconvert->jupyter->-r requirements.txt (line 8)) (4.13.5)\n",
            "Requirement already satisfied: bleach!=5.0.0 in /Users/lindsaygross/AIPI503/data-pipeline/venv/lib/python3.10/site-packages (from bleach[css]!=5.0.0->nbconvert->jupyter->-r requirements.txt (line 8)) (6.2.0)\n",
            "Requirement already satisfied: defusedxml in /Users/lindsaygross/AIPI503/data-pipeline/venv/lib/python3.10/site-packages (from nbconvert->jupyter->-r requirements.txt (line 8)) (0.7.1)\n",
            "Requirement already satisfied: jupyterlab-pygments in /Users/lindsaygross/AIPI503/data-pipeline/venv/lib/python3.10/site-packages (from nbconvert->jupyter->-r requirements.txt (line 8)) (0.3.0)\n",
            "Requirement already satisfied: mistune<4,>=2.0.3 in /Users/lindsaygross/AIPI503/data-pipeline/venv/lib/python3.10/site-packages (from nbconvert->jupyter->-r requirements.txt (line 8)) (3.1.4)\n",
            "Requirement already satisfied: nbclient>=0.5.0 in /Users/lindsaygross/AIPI503/data-pipeline/venv/lib/python3.10/site-packages (from nbconvert->jupyter->-r requirements.txt (line 8)) (0.10.2)\n",
            "Requirement already satisfied: pandocfilters>=1.4.1 in /Users/lindsaygross/AIPI503/data-pipeline/venv/lib/python3.10/site-packages (from nbconvert->jupyter->-r requirements.txt (line 8)) (1.5.1)\n",
            "Requirement already satisfied: webencodings in /Users/lindsaygross/AIPI503/data-pipeline/venv/lib/python3.10/site-packages (from bleach!=5.0.0->bleach[css]!=5.0.0->nbconvert->jupyter->-r requirements.txt (line 8)) (0.5.1)\n",
            "Requirement already satisfied: tinycss2<1.5,>=1.1.0 in /Users/lindsaygross/AIPI503/data-pipeline/venv/lib/python3.10/site-packages (from bleach[css]!=5.0.0->nbconvert->jupyter->-r requirements.txt (line 8)) (1.4.0)\n",
            "Requirement already satisfied: fastjsonschema>=2.15 in /Users/lindsaygross/AIPI503/data-pipeline/venv/lib/python3.10/site-packages (from nbformat>=5.3.0->jupyter-server<3,>=2.4.0->jupyterlab->jupyter->-r requirements.txt (line 8)) (2.21.2)\n",
            "Requirement already satisfied: charset_normalizer<4,>=2 in /Users/lindsaygross/AIPI503/data-pipeline/venv/lib/python3.10/site-packages (from requests>=2.31->jupyterlab-server<3,>=2.27.1->jupyterlab->jupyter->-r requirements.txt (line 8)) (3.4.3)\n",
            "Requirement already satisfied: urllib3<3,>=1.21.1 in /Users/lindsaygross/AIPI503/data-pipeline/venv/lib/python3.10/site-packages (from requests>=2.31->jupyterlab-server<3,>=2.27.1->jupyterlab->jupyter->-r requirements.txt (line 8)) (2.5.0)\n",
            "Requirement already satisfied: lark>=1.2.2 in /Users/lindsaygross/AIPI503/data-pipeline/venv/lib/python3.10/site-packages (from rfc3987-syntax>=1.1.0->jsonschema[format-nongpl]>=4.18.0->jupyter-events>=0.11.0->jupyter-server<3,>=2.4.0->jupyterlab->jupyter->-r requirements.txt (line 8)) (1.2.2)\n",
            "Requirement already satisfied: cffi>=1.0.1 in /Users/lindsaygross/AIPI503/data-pipeline/venv/lib/python3.10/site-packages (from argon2-cffi-bindings->argon2-cffi>=21.1->jupyter-server<3,>=2.4.0->jupyterlab->jupyter->-r requirements.txt (line 8)) (2.0.0)\n",
            "Requirement already satisfied: pycparser in /Users/lindsaygross/AIPI503/data-pipeline/venv/lib/python3.10/site-packages (from cffi>=1.0.1->argon2-cffi-bindings->argon2-cffi>=21.1->jupyter-server<3,>=2.4.0->jupyterlab->jupyter->-r requirements.txt (line 8)) (2.23)\n",
            "Requirement already satisfied: soupsieve>1.2 in /Users/lindsaygross/AIPI503/data-pipeline/venv/lib/python3.10/site-packages (from beautifulsoup4->nbconvert->jupyter->-r requirements.txt (line 8)) (2.8)\n",
            "Requirement already satisfied: arrow>=0.15.0 in /Users/lindsaygross/AIPI503/data-pipeline/venv/lib/python3.10/site-packages (from isoduration->jsonschema[format-nongpl]>=4.18.0->jupyter-events>=0.11.0->jupyter-server<3,>=2.4.0->jupyterlab->jupyter->-r requirements.txt (line 8)) (1.3.0)\n",
            "Requirement already satisfied: types-python-dateutil>=2.8.10 in /Users/lindsaygross/AIPI503/data-pipeline/venv/lib/python3.10/site-packages (from arrow>=0.15.0->isoduration->jsonschema[format-nongpl]>=4.18.0->jupyter-events>=0.11.0->jupyter-server<3,>=2.4.0->jupyterlab->jupyter->-r requirements.txt (line 8)) (2.9.0.20250822)\n",
            "Requirement already satisfied: executing>=1.2.0 in /Users/lindsaygross/AIPI503/data-pipeline/venv/lib/python3.10/site-packages (from stack_data->ipython>=7.23.1->ipykernel->jupyter->-r requirements.txt (line 8)) (2.2.0)\n",
            "Requirement already satisfied: asttokens>=2.1.0 in /Users/lindsaygross/AIPI503/data-pipeline/venv/lib/python3.10/site-packages (from stack_data->ipython>=7.23.1->ipykernel->jupyter->-r requirements.txt (line 8)) (3.0.0)\n",
            "Requirement already satisfied: pure-eval in /Users/lindsaygross/AIPI503/data-pipeline/venv/lib/python3.10/site-packages (from stack_data->ipython>=7.23.1->ipykernel->jupyter->-r requirements.txt (line 8)) (0.2.3)\n"
          ]
        }
      ],
      "source": [
        "import os\n",
        "\n",
        "# check if running in google colab\n",
        "try:\n",
        "    import google.colab\n",
        "    IN_COLAB = True\n",
        "    from google.colab import drive\n",
        "except ImportError:\n",
        "    IN_COLAB = False\n",
        "\n",
        "repo_name = \"Interpretable-ML\"\n",
        "git_path = \"https://github.com/lindsaygross/Interpretable-ML.git\"\n",
        "\n",
        "if IN_COLAB:\n",
        "    print(\"running in google colab...\")\n",
        "\n",
        "    # mount google drive\n",
        "    drive.mount('/content/drive')\n",
        "\n",
        "    # navigate to drive location\n",
        "    drive_path = '/content/drive/MyDrive/Duke ME AIPI'\n",
        "    os.makedirs(drive_path, exist_ok=True)\n",
        "    %cd \"{drive_path}\"\n",
        "\n",
        "    # clone or update repo\n",
        "    if not os.path.exists(repo_name):\n",
        "        !git clone {git_path}\n",
        "    else:\n",
        "        %cd {repo_name}\n",
        "        !git pull origin main\n",
        "        %cd ..\n",
        "\n",
        "    %cd {repo_name}\n",
        "\n",
        "    # install dependencies\n",
        "    if os.path.exists(\"requirements.txt\"):\n",
        "        !pip install -r requirements.txt\n",
        "    else:\n",
        "        !pip install pandas numpy matplotlib seaborn scikit-learn\n",
        "\n",
        "    # verify csv file exists\n",
        "    csv_file = 'WA_Fn-UseC_-Telco-Customer-Churn.csv'\n",
        "    if os.path.exists(csv_file):\n",
        "        print(f\"csv file found: {csv_file}\")\n",
        "    else:\n",
        "        print(\"csv file not found\")\n",
        "\n",
        "else:\n",
        "    # local setup\n",
        "    if os.path.exists(\"requirements.txt\"):\n",
        "        !pip install -r requirements.txt\n",
        "    else:\n",
        "        print(\"requirements.txt not found\")"
      ]
    },
    {
      "cell_type": "markdown",
      "metadata": {
        "id": "ewczhPrsZcok"
      },
      "source": [
        "## **Dependencies**"
      ]
    },
    {
      "cell_type": "code",
      "execution_count": 58,
      "metadata": {
        "id": "42jnrsenUiBF"
      },
      "outputs": [],
      "source": [
        "import numpy as np\n",
        "import pandas as pd\n",
        "\n",
        "\n",
        "# visualization libraries\n",
        "import matplotlib.pyplot as plt\n",
        "import seaborn as sns\n",
        "\n",
        "# scikit-learn libraries\n",
        "from sklearn.model_selection import train_test_split\n",
        "from sklearn.preprocessing import StandardScaler\n",
        "from sklearn.linear_model import LinearRegression, Ridge, Lasso\n",
        "from sklearn.metrics import mean_squared_error, r2_score"
      ]
    },
    {
      "cell_type": "markdown",
      "metadata": {},
      "source": [
        "## **Exploratory Data Analysis**\n",
        "**Context:**\n",
        "This dataset includes information about various customers who left their job within the last month.\n"
      ]
    },
    {
      "cell_type": "markdown",
      "metadata": {},
      "source": [
        "## **Explanation of the Content of Dataset**\n",
        "\n",
        "**Each row represents a single customer, each column contains the following customer’s attributes** \n",
        "<br> \n",
        "<br>\n",
        "**Each column contains customer’s attributes as follows:**\n",
        "\n",
        "**customerID:** The individual customer\n",
        "<br> \n",
        "<br>\n",
        "**gender:** Whether the customer is a male or a female\n",
        "<br>\n",
        "<br>\n",
        "**SeniorCitizen:** Whether the customer is a senior citizen or not (1, 0)\n",
        "<br>\n",
        "<br>\n",
        "**Partner:** Whether the customer has a partner or not (Yes, No)\n",
        "<br>\n",
        "<br>\n",
        "**Dependents:** Whether the customer has dependents or not (Yes, No)\n",
        "<br>\n",
        "<br>\n",
        "**Tenure:** Number of months the customer has stayed with the company\n",
        "<br>\n",
        "<br>\n",
        "**PhoneService:** Whether the customer has a phone service or not (Yes, No\n",
        "<br>\n",
        "<br>\n",
        "**MultipleLines:** Whether the customer has multiple lines or not (Yes, No, No phone service)\n",
        "<br>\n",
        "<br>\n",
        "**InternetService:** Customer’s internet service provider (DSL, Fiber optic, No)\n",
        "<br>\n",
        "<br>\n",
        "**OnlineSecurity:** Whether the customer has online security or not (Yes, No, No internet service)\n",
        "<br>\n",
        "<br>\n",
        "**OnlineBackup:** Whether the customer has online backup or not (Yes, No, No internet service)\n",
        "<br>\n",
        "<br>\n",
        "**DeviceProtection:** Whether the customer has device protection or not (Yes, No, No internet service)\n",
        "<br>\n",
        "<br>\n",
        "**TechSupport:** Whether the customer has tech support or not (Yes, No, No internet service)\n",
        "<br>\n",
        "<br>\n",
        "**StreamingTV:** Whether the customer has streaming TV or not (Yes, No, No internet service)\n",
        "<br>\n",
        "<br>\n",
        "**StreamingMovies:** Whether the customer has streaming movies or not (Yes, No, No internet service)\n",
        "<br>\n",
        "<br>\n",
        "**Contract:** The contract term of the customer (Month-to-month, One year, Two year)\n",
        "<br>\n",
        "<br>\n",
        "**PaperlessBilling:** Whether the customer has paperless billing or not (Yes, No)\n",
        "<br>\n",
        "<br>\n",
        "**PaymentMethod:** The customer’s payment method (Electronic check, Mailed check, Bank transfer (automatic), Credit card (automatic))\n",
        "<br>\n",
        "<br>\n",
        "**MonthlyCharges:** The amount charged to the customer monthly\n",
        "<br>\n",
        "<br>\n",
        "**TotalCharges:** The total amount charged to the customer\n",
        "<br>\n",
        "<br>\n",
        "**Churn:** Whether the customer churned or not (Yes or No)\n",
        "<br>\n",
        "<br>\n"
      ]
    },
    {
      "cell_type": "code",
      "execution_count": 65,
      "metadata": {
        "colab": {
          "base_uri": "https://localhost:8080/",
          "height": 1000
        },
        "id": "xIEnZR5WUiBG",
        "outputId": "5119f71d-12fb-44d0-b819-26692438846b"
      },
      "outputs": [
        {
          "name": "stdout",
          "output_type": "stream",
          "text": [
            "loaded from local directory\n",
            "<class 'pandas.core.frame.DataFrame'>\n",
            "Index: 7032 entries, 0 to 7042\n",
            "Data columns (total 21 columns):\n",
            " #   Column            Non-Null Count  Dtype  \n",
            "---  ------            --------------  -----  \n",
            " 0   customerID        7032 non-null   object \n",
            " 1   gender            7032 non-null   object \n",
            " 2   SeniorCitizen     7032 non-null   int64  \n",
            " 3   Partner           7032 non-null   object \n",
            " 4   Dependents        7032 non-null   object \n",
            " 5   tenure            7032 non-null   int64  \n",
            " 6   PhoneService      7032 non-null   object \n",
            " 7   MultipleLines     7032 non-null   object \n",
            " 8   InternetService   7032 non-null   object \n",
            " 9   OnlineSecurity    7032 non-null   object \n",
            " 10  OnlineBackup      7032 non-null   object \n",
            " 11  DeviceProtection  7032 non-null   object \n",
            " 12  TechSupport       7032 non-null   object \n",
            " 13  StreamingTV       7032 non-null   object \n",
            " 14  StreamingMovies   7032 non-null   object \n",
            " 15  Contract          7032 non-null   object \n",
            " 16  PaperlessBilling  7032 non-null   object \n",
            " 17  PaymentMethod     7032 non-null   object \n",
            " 18  MonthlyCharges    7032 non-null   float64\n",
            " 19  TotalCharges      7032 non-null   float64\n",
            " 20  Churn             7032 non-null   object \n",
            "dtypes: float64(2), int64(2), object(17)\n",
            "memory usage: 1.2+ MB\n"
          ]
        }
      ],
      "source": [
        "# Used claude at 4:45pm to help load data in colab and in local environment\n",
        "\n",
        "\"\"\"\n",
        "Perform an exploratory analysis of the dataset to understand the relationships between different\n",
        "features and the target variable (churn). Use appropriate visualizations and statistical methods\n",
        "to determine whether assumptions about linear, logistic, and GAM models are met.\n",
        "\"\"\"\n",
        "# load the data\n",
        "try:\n",
        "    df = pd.read_csv('WA_Fn-UseC_-Telco-Customer-Churn.csv')\n",
        "    print(\"loaded from local directory\")\n",
        "except:\n",
        "    try:\n",
        "        df = pd.read_csv('/content/drive/MyDrive/Duke ME AIPI/Interpretable-ML/WA_Fn-UseC_-Telco-Customer-Churn.csv')\n",
        "        print(\"loaded from colab repo\")\n",
        "    except:\n",
        "        df = pd.read_csv('/content/drive/MyDrive/Explainable AI/WA_Fn-UseC_-Telco-Customer-Churn.csv')\n",
        "        print(\"loaded from colab drive\")\n",
        "\n",
        "df.head()\n",
        "\n",
        "# Convert 'TotalCharges' to numeric so that we can analyze the numeric effect on churn later on\n",
        "df['TotalCharges'] = pd.to_numeric(df['TotalCharges'], errors='coerce')\n",
        "df = df.dropna(subset=['TotalCharges'])\n",
        "df.info()\n",
        "\n",
        "\n"
      ]
    },
    {
      "cell_type": "code",
      "execution_count": 66,
      "metadata": {},
      "outputs": [
        {
          "name": "stdout",
          "output_type": "stream",
          "text": [
            "<class 'pandas.core.frame.DataFrame'>\n",
            "Index: 7032 entries, 0 to 7042\n",
            "Data columns (total 21 columns):\n",
            " #   Column            Non-Null Count  Dtype  \n",
            "---  ------            --------------  -----  \n",
            " 0   customerID        7032 non-null   object \n",
            " 1   gender            7032 non-null   object \n",
            " 2   SeniorCitizen     7032 non-null   int64  \n",
            " 3   Partner           7032 non-null   object \n",
            " 4   Dependents        7032 non-null   object \n",
            " 5   tenure            7032 non-null   int64  \n",
            " 6   PhoneService      7032 non-null   object \n",
            " 7   MultipleLines     7032 non-null   object \n",
            " 8   InternetService   7032 non-null   object \n",
            " 9   OnlineSecurity    7032 non-null   object \n",
            " 10  OnlineBackup      7032 non-null   object \n",
            " 11  DeviceProtection  7032 non-null   object \n",
            " 12  TechSupport       7032 non-null   object \n",
            " 13  StreamingTV       7032 non-null   object \n",
            " 14  StreamingMovies   7032 non-null   object \n",
            " 15  Contract          7032 non-null   object \n",
            " 16  PaperlessBilling  7032 non-null   object \n",
            " 17  PaymentMethod     7032 non-null   object \n",
            " 18  MonthlyCharges    7032 non-null   float64\n",
            " 19  TotalCharges      7032 non-null   float64\n",
            " 20  Churn             7032 non-null   object \n",
            "dtypes: float64(2), int64(2), object(17)\n",
            "memory usage: 1.2+ MB\n",
            "None\n",
            "(7032, 21)\n",
            "       SeniorCitizen       tenure  MonthlyCharges  TotalCharges\n",
            "count    7032.000000  7032.000000     7032.000000   7032.000000\n",
            "mean        0.162400    32.421786       64.798208   2283.300441\n",
            "std         0.368844    24.545260       30.085974   2266.771362\n",
            "min         0.000000     1.000000       18.250000     18.800000\n",
            "25%         0.000000     9.000000       35.587500    401.450000\n",
            "50%         0.000000    29.000000       70.350000   1397.475000\n",
            "75%         0.000000    55.000000       89.862500   3794.737500\n",
            "max         1.000000    72.000000      118.750000   8684.800000\n"
          ]
        }
      ],
      "source": [
        "# describe the data\n",
        "print(df.info())\n",
        "print(df.shape)\n",
        "print(df.describe())"
      ]
    },
    {
      "cell_type": "code",
      "execution_count": 67,
      "metadata": {},
      "outputs": [
        {
          "name": "stdout",
          "output_type": "stream",
          "text": [
            "customerID          0\n",
            "gender              0\n",
            "SeniorCitizen       0\n",
            "Partner             0\n",
            "Dependents          0\n",
            "tenure              0\n",
            "PhoneService        0\n",
            "MultipleLines       0\n",
            "InternetService     0\n",
            "OnlineSecurity      0\n",
            "OnlineBackup        0\n",
            "DeviceProtection    0\n",
            "TechSupport         0\n",
            "StreamingTV         0\n",
            "StreamingMovies     0\n",
            "Contract            0\n",
            "PaperlessBilling    0\n",
            "PaymentMethod       0\n",
            "MonthlyCharges      0\n",
            "TotalCharges        0\n",
            "Churn               0\n",
            "dtype: int64\n"
          ]
        }
      ],
      "source": [
        "# check for missing values\n",
        "print(df.isnull().sum())    "
      ]
    },
    {
      "cell_type": "code",
      "execution_count": 69,
      "metadata": {},
      "outputs": [
        {
          "name": "stdout",
          "output_type": "stream",
          "text": [
            "Number of duplicate rows: 0\n"
          ]
        }
      ],
      "source": [
        "# check for duplicate rows\n",
        "duplicate_rows = df.duplicated()\n",
        "df[duplicate_rows]\n",
        "print(f\"Number of duplicate rows: {duplicate_rows.sum()}\")"
      ]
    },
    {
      "cell_type": "code",
      "execution_count": 61,
      "metadata": {},
      "outputs": [
        {
          "name": "stdout",
          "output_type": "stream",
          "text": [
            "Churn\n",
            "No     5174\n",
            "Yes    1869\n",
            "Name: count, dtype: int64\n"
          ]
        },
        {
          "data": {
            "image/png": "[encoded data removed]",
            "text/plain": [
              "<Figure size 640x480 with 1 Axes>"
            ]
          },
          "metadata": {},
          "output_type": "display_data"
        }
      ],
      "source": [
        "# Used claude at 4:50pm to help create binary column for churn\n",
        "\n",
        "# visualize the churn distribution\n",
        "print(df['Churn'].value_counts())\n",
        "df['ChurnBinary'] = df['Churn'].map({'No': 0, 'Yes': 1}) # create a binary column for churn\n",
        "sns.countplot(x='Churn', data=df)\n",
        "plt.title('Churn Distribution')\n",
        "plt.show()"
      ]
    },
    {
      "cell_type": "markdown",
      "metadata": {},
      "source": [
        "### Churn Distribution\n",
        "The target variable `Churn` is imbalanced: most customers stay, while a smaller amount leave.  \n",
        "This imbalance is important because it can affect model performance, especially for **linear** and **logistic regression** models. \n"
      ]
    },
    {
      "cell_type": "code",
      "execution_count": 72,
      "metadata": {},
      "outputs": [
        {
          "data": {
            "image/png": "[encoded data removed]",
            "text/plain": [
              "<Figure size 600x300 with 1 Axes>"
            ]
          },
          "metadata": {},
          "output_type": "display_data"
        },
        {
          "data": {
            "image/png": "[encoded data removed]",
            "text/plain": [
              "<Figure size 600x300 with 1 Axes>"
            ]
          },
          "metadata": {},
          "output_type": "display_data"
        },
        {
          "data": {
            "image/png": "[encoded data removed]",
            "text/plain": [
              "<Figure size 600x300 with 1 Axes>"
            ]
          },
          "metadata": {},
          "output_type": "display_data"
        }
      ],
      "source": [
        "# Numerical features distribution vs Churn\n",
        "numerical_features = ['tenure', 'MonthlyCharges', 'TotalCharges']\n",
        "\n",
        "for feature in numerical_features:\n",
        "    plt.figure(figsize=(6, 3))  # Used claude at 5:00pm to help adjust figure size\n",
        "    sns.boxplot(x='Churn', y=feature, data=df) \n",
        "    plt.title(f'{feature} Distribution by Churn')\n",
        "    plt.show()"
      ]
    },
    {
      "cell_type": "markdown",
      "metadata": {},
      "source": [
        "## **EDA Numeric Features vs Churn**\n",
        "\n",
        "**Tenure Distribution by Churn**\n",
        "\n",
        "- Customers who churned generally have shorter tenure with the company.\n",
        "- Most churned customers left within the first ~20 months.\n",
        "- Non-churned customers are more spread out, with many staying long-term.\n",
        "\n",
        "Tenure has a strong negative relationship with churn. This relationship looks non-linear (sharp drop in early months), which may not be well captured by linear regression, but logistic regression or a GAM can handle it better."
      ]
    },
    {
      "cell_type": "markdown",
      "metadata": {},
      "source": [
        "**Summary of above EDA**\n",
        "---\n",
        "<br>\n",
        "- The above eda display a simple analysis of the dataframe calling the info function."
      ]
    },
    {
      "cell_type": "markdown",
      "metadata": {
        "id": "s0tlvDIzUiBG"
      },
      "source": [
        "# Assumptions Explained"
      ]
    },
    {
      "cell_type": "code",
      "execution_count": null,
      "metadata": {
        "id": "FikELX-rUiBH"
      },
      "outputs": [],
      "source": [
        "# Check for assumptions of linearity"
      ]
    },
    {
      "cell_type": "code",
      "execution_count": null,
      "metadata": {
        "id": "hd9FR28LUiBH"
      },
      "outputs": [],
      "source": [
        "# Check for assumptions of Independence of Observations"
      ]
    },
    {
      "cell_type": "code",
      "execution_count": null,
      "metadata": {
        "id": "Prtnt6y9UiBH"
      },
      "outputs": [],
      "source": [
        "# Check for assumptions of Homoscedasticity"
      ]
    },
    {
      "cell_type": "code",
      "execution_count": null,
      "metadata": {
        "id": "_CjMJ6DNUiBH"
      },
      "outputs": [],
      "source": [
        "# Check for assumptions of Normality of Residuals"
      ]
    },
    {
      "cell_type": "code",
      "execution_count": null,
      "metadata": {
        "id": "k6fWjBNjUiBI"
      },
      "outputs": [],
      "source": [
        "# Check for assumptions of No Multicollinearity"
      ]
    },
    {
      "cell_type": "code",
      "execution_count": null,
      "metadata": {
        "id": "UMqAUyUJUiBI"
      },
      "outputs": [],
      "source": [
        "# Check for assumptions of No Influential Outliers"
      ]
    },
    {
      "cell_type": "code",
      "execution_count": null,
      "metadata": {
        "id": "0l6uRtLqUiBI"
      },
      "outputs": [],
      "source": [
        "# Coefficent Comparison Plot"
      ]
    },
    {
      "cell_type": "code",
      "execution_count": null,
      "metadata": {
        "id": "TLyjHHCQUiBI"
      },
      "outputs": [],
      "source": [
        "# Residual Plot"
      ]
    },
    {
      "cell_type": "code",
      "execution_count": null,
      "metadata": {
        "id": "mQIs4hR_UiBI"
      },
      "outputs": [],
      "source": [
        "# Actual vs Predicted Plot"
      ]
    },
    {
      "cell_type": "code",
      "execution_count": null,
      "metadata": {
        "id": "ih269VOXUiBI"
      },
      "outputs": [],
      "source": [
        "# Feature Importance Plot"
      ]
    },
    {
      "cell_type": "code",
      "execution_count": null,
      "metadata": {
        "id": "EuYFslvxUiBI"
      },
      "outputs": [],
      "source": [
        "# Lasso Regualrization Plot"
      ]
    },
    {
      "cell_type": "code",
      "execution_count": null,
      "metadata": {
        "id": "JKoK7xaUUiBI"
      },
      "outputs": [],
      "source": [
        "# Linear Regression Model"
      ]
    },
    {
      "cell_type": "code",
      "execution_count": null,
      "metadata": {
        "id": "adMvE0YPUiBI"
      },
      "outputs": [],
      "source": [
        "# Logistic Regression Model"
      ]
    },
    {
      "cell_type": "code",
      "execution_count": null,
      "metadata": {
        "id": "cmluoXuVUiBI"
      },
      "outputs": [],
      "source": [
        "# GAM Model"
      ]
    },
    {
      "cell_type": "markdown",
      "metadata": {
        "id": "m-A7_QVcUiBJ"
      },
      "source": [
        "# Discussion of Strengths and Weaknesses"
      ]
    },
    {
      "cell_type": "markdown",
      "metadata": {
        "id": "mUfo89enUiBJ"
      },
      "source": [
        "# Recommendation of telecommunications model\n",
        "Recommendations for which model(s) the telecommunications company should use to address their customer churn problem are provided and explained in markdown"
      ]
    }
  ],
  "metadata": {
    "colab": {
      "provenance": []
    },
    "kernelspec": {
      "display_name": ".venv (3.10)",
      "language": "python",
      "name": "movie-pipeline-venv"
    },
    "language_info": {
      "codemirror_mode": {
        "name": "ipython",
        "version": 3
      },
      "file_extension": ".py",
      "mimetype": "text/x-python",
      "name": "python",
      "nbconvert_exporter": "python",
      "pygments_lexer": "ipython3",
      "version": "3.10.0"
    }
  },
  "nbformat": 4,
  "nbformat_minor": 0
}
